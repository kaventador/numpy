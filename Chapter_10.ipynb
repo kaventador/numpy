{
 "cells": [
  {
   "cell_type": "code",
   "execution_count": 1,
   "id": "81bf8bbc",
   "metadata": {},
   "outputs": [],
   "source": [
    "import numpy as np"
   ]
  },
  {
   "cell_type": "code",
   "execution_count": 2,
   "id": "7f4f5fd4",
   "metadata": {},
   "outputs": [],
   "source": [
    "surnames = ('Hertz','Galolei','Hertz')\n",
    "first_name = ('Heinrich','Galileo','Gustav')\n",
    "\n",
    "x = np.array([3,1,2,6,7,0,8,10])\n",
    "\n",
    "a = np.array([\n",
    "    [1,4,2],\n",
    "    [3,1,5]\n",
    "])"
   ]
  },
  {
   "cell_type": "code",
   "execution_count": 10,
   "id": "52ce42e9",
   "metadata": {},
   "outputs": [
    {
     "data": {
      "text/plain": [
       "array([1, 2, 0], dtype=int64)"
      ]
     },
     "execution_count": 10,
     "metadata": {},
     "output_type": "execute_result"
    }
   ],
   "source": [
    "# np.sort(a , axis=0)\n",
    "np.lexsort((first_name,surnames))\n"
   ]
  }
 ],
 "metadata": {
  "kernelspec": {
   "display_name": "Python 3 (ipykernel)",
   "language": "python",
   "name": "python3"
  },
  "language_info": {
   "codemirror_mode": {
    "name": "ipython",
    "version": 3
   },
   "file_extension": ".py",
   "mimetype": "text/x-python",
   "name": "python",
   "nbconvert_exporter": "python",
   "pygments_lexer": "ipython3",
   "version": "3.11.5"
  }
 },
 "nbformat": 4,
 "nbformat_minor": 5
}
