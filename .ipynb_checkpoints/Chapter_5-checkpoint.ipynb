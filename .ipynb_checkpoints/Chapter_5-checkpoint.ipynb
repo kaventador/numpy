{
 "cells": [
  {
   "cell_type": "code",
   "execution_count": 1,
   "id": "aa0bf689",
   "metadata": {},
   "outputs": [],
   "source": [
    "import numpy as np"
   ]
  },
  {
   "cell_type": "code",
   "execution_count": 8,
   "id": "0cfccd6b",
   "metadata": {},
   "outputs": [
    {
     "data": {
      "text/plain": [
       "<numpy.lib.npyio.NpzFile at 0x2a4c553bd90>"
      ]
     },
     "execution_count": 8,
     "metadata": {},
     "output_type": "execute_result"
    }
   ],
   "source": [
    "a = np.array([\n",
    "    [1,2,3],\n",
    "    [4,5,6]\n",
    "])\n",
    "\n",
    "b = np.array([\n",
    "    [11,22,33],\n",
    "    [44,55,66]\n",
    "])\n",
    "\n",
    "# np.savetxt('abc',a) \n",
    "# np.save('abc',a)\n",
    "# np.savez('ab.npz',a,b)\n",
    "# np.load('abc.npy')\n",
    "# np.load('ab.npz')"
   ]
  }
 ],
 "metadata": {
  "kernelspec": {
   "display_name": "Python 3 (ipykernel)",
   "language": "python",
   "name": "python3"
  },
  "language_info": {
   "codemirror_mode": {
    "name": "ipython",
    "version": 3
   },
   "file_extension": ".py",
   "mimetype": "text/x-python",
   "name": "python",
   "nbconvert_exporter": "python",
   "pygments_lexer": "ipython3",
   "version": "3.11.5"
  }
 },
 "nbformat": 4,
 "nbformat_minor": 5
}
