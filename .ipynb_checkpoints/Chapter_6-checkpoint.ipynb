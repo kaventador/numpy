{
 "cells": [
  {
   "cell_type": "code",
   "execution_count": 2,
   "id": "5e38e618",
   "metadata": {},
   "outputs": [],
   "source": [
    "import numpy as np\n",
    "import numpy.ma as ma"
   ]
  },
  {
   "cell_type": "code",
   "execution_count": 12,
   "id": "dd92f9cb",
   "metadata": {},
   "outputs": [
    {
     "data": {
      "text/plain": [
       "masked_array(data=[-3, -2, -1, --, 1, 2, 3, 4],\n",
       "             mask=[False, False, False,  True, False, False, False, False],\n",
       "       fill_value=0)"
      ]
     },
     "execution_count": 12,
     "metadata": {},
     "output_type": "execute_result"
    }
   ],
   "source": [
    "a = np.arange(-3,5)\n",
    "b = np.array([\n",
    "    [1,2,3],\n",
    "    [4,np.nan,6]\n",
    "])\n",
    "\n",
    "# m = ma.masked_array(b , mask=[0,0,0,0,1,0])\n",
    "# m = ma.masked_where(a<=0,a)\n",
    "m = ma.masked_values(a,0)\n",
    "m"
   ]
  }
 ],
 "metadata": {
  "kernelspec": {
   "display_name": "Python 3 (ipykernel)",
   "language": "python",
   "name": "python3"
  },
  "language_info": {
   "codemirror_mode": {
    "name": "ipython",
    "version": 3
   },
   "file_extension": ".py",
   "mimetype": "text/x-python",
   "name": "python",
   "nbconvert_exporter": "python",
   "pygments_lexer": "ipython3",
   "version": "3.11.5"
  }
 },
 "nbformat": 4,
 "nbformat_minor": 5
}
